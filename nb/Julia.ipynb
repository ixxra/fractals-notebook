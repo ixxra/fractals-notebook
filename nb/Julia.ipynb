{
 "metadata": {
  "name": "Julia"
 },
 "nbformat": 3,
 "nbformat_minor": 0,
 "worksheets": [
  {
   "cells": [
    {
     "cell_type": "code",
     "collapsed": false,
     "input": [
      "def julia(zmin, zmax, hpx, niter, c):\n",
      "    vpx=round(hpx * abs((zmax-zmin).imag / (zmax-zmin).real))\n",
      "    x = linspace(zmin.real, zmax.real, hpx)\n",
      "    y = linspace(zmin.imag, zmax.imag, vpx)\n",
      "    zRe, zIm = meshgrid(x, y)\n",
      "    z = zRe + zIm * 1j\n",
      "    M = zeros(vpx,hpx)\n",
      "    for _ in range(niter)\n",
      "      mask = find(abs(z)<2)\n",
      "      M.flat[mask] = M.flat[mask] + 1\n",
      "      z.flat[mask] = z.flat[mask]**2 + c\n",
      "    M.flat[mask] = 0\n"
     ],
     "language": "python",
     "metadata": {},
     "outputs": []
    }
   ],
   "metadata": {}
  }
 ]
}