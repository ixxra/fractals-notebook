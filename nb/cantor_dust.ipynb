{
 "metadata": {
  "name": "cantor_dust"
 },
 "nbformat": 3,
 "nbformat_minor": 0,
 "worksheets": [
  {
   "cells": [
    {
     "cell_type": "code",
     "collapsed": false,
     "input": [
      "def cantor_dust(center_x = 0, center_y = 0, sides=5, size=150, contraction=0.2, steps=2):\n",
      "    '''\n",
      "    Computes cantor's dust of the given size. Note that Cantor's dust is a non-countable fractal, so that this an\n",
      "    approximation after steps iterations.\n",
      "\n",
      "    Arguments:\n",
      "        @center_x, @center_y: Center coordinates\n",
      "        @sides: Number of sides. cantor_dust generates a fractal by contracting a regular polygon with \"sides\" number of sides.\n",
      "        @size: Size of the first polygon from center to vertex.\n",
      "        @contraction: Contraction factor applied during iteration\n",
      "        @steps: Number of steps to iterate. Note that steps=0 means no iteration at all (Only keep the first polygons' vertices).\n",
      "\n",
      "    Returns:\n",
      "        An iterator for the coordinates (x, y) of the vertices, generated recursively on each contraction.\n",
      "    '''\n",
      "    if steps == 0:\n",
      "        for i in range(sides):\n",
      "            yield (center_x + size * sin(2 * pi * i/ sides), center_y + size * cos(2 * pi * i/ sides))\n",
      "    else:\n",
      "        for i in range(sides):\n",
      "            new_center_x = center_x + (1 - contraction) * size * sin(2 * pi * i / sides)\n",
      "            new_center_y = center_y + (1 - contraction) * size * cos(2 * pi * i / sides)\n",
      "            for x, y in cantor_dust(new_center_x, new_center_y, sides, size * contraction, contraction, steps - 1):\n",
      "                yield (x, y)"
     ],
     "language": "python",
     "metadata": {},
     "outputs": [],
     "prompt_number": 86
    },
    {
     "cell_type": "code",
     "collapsed": false,
     "input": [
      "points = list(cantor_dust(contraction=0.3, steps=4))\n",
      "x = [p[0] for p in points]\n",
      "y = [p[1] for p in points]\n",
      "plot(x, y, ',')"
     ],
     "language": "python",
     "metadata": {},
     "outputs": [
      {
       "output_type": "pyout",
       "prompt_number": 131,
       "text": [
        "[<matplotlib.lines.Line2D at 0xafff27cc>]"
       ]
      },
      {
       "output_type": "display_data",
       "png": "[encoded data removed]"
      }
     ],
     "prompt_number": 131
    },
    {
     "cell_type": "code",
     "collapsed": false,
     "input": [],
     "language": "python",
     "metadata": {},
     "outputs": []
    }
   ],
   "metadata": {}
  }
 ]
}