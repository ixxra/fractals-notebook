{
 "metadata": {
  "name": "sierpinski_triangle"
 },
 "nbformat": 3,
 "nbformat_minor": 0,
 "worksheets": [
  {
   "cells": [
    {
     "cell_type": "code",
     "collapsed": false,
     "input": [
      "COMPLEMENT=120\n",
      "FACTOR = math.sqrt(3)/2\n",
      "\n",
      "class Carpet:\n",
      "  def __init__(self, x, y, side):\n",
      "    self.x = x\n",
      "    self.y = y\n",
      "    self.side = side\n",
      "    self.height = FACTOR*side\n",
      "\n",
      "  def _children(self, x, y, side, height, step=0):\n",
      "    if step==0:\n",
      "      yield (x, y)\n",
      "\n",
      "    else:\n",
      "      newSide = side/2\n",
      "      newHeight = height/2\n",
      "\n",
      "      for f in self._children(x, y, newSide, newHeight, step - 1):\n",
      "        yield f\n",
      "      for f in self._children(x + newSide, y, newSide, newHeight, step - 1):\n",
      "        yield f\n",
      "      for f in self._children(x + newSide/2, y + newHeight, newSide, newHeight, step - 1):\n",
      "        yield f\n",
      "\n",
      "  def children(self, steps=0):\n",
      "    return self._children(self.x, self.y, self.side, self.height, steps)"
     ],
     "language": "python",
     "metadata": {},
     "outputs": [],
     "prompt_number": 1
    },
    {
     "cell_type": "code",
     "collapsed": false,
     "input": [
      "c = Carpet(0, 0, 500)"
     ],
     "language": "python",
     "metadata": {},
     "outputs": [],
     "prompt_number": 39
    },
    {
     "cell_type": "code",
     "collapsed": false,
     "input": [
      "#We are working recursively, and though python's iterators are very good in preserving memory, you should not\n",
      "#push too hard on the steps, unless you wish to crash the notebook ;-)\n",
      "points =  list(c.children(steps=7))\n",
      "X = list(map(lambda z : z[0], points))\n",
      "Y = list(map(lambda z : z[1], points))"
     ],
     "language": "python",
     "metadata": {},
     "outputs": [],
     "prompt_number": 40
    },
    {
     "cell_type": "code",
     "collapsed": false,
     "input": [
      "plot(X, Y, 'r.', markersize=2)"
     ],
     "language": "python",
     "metadata": {},
     "outputs": [
      {
       "output_type": "pyout",
       "prompt_number": 41,
       "text": [
        "[<matplotlib.lines.Line2D at 0xb00c830c>]"
       ]
      },
      {
       "output_type": "display_data",
       "png": "[encoded data removed]"
      }
     ],
     "prompt_number": 41
    }
   ],
   "metadata": {}
  }
 ]
}